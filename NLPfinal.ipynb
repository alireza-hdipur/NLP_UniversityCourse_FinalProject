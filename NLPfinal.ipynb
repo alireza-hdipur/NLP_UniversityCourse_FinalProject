{
  "nbformat": 4,
  "nbformat_minor": 0,
  "metadata": {
    "colab": {
      "provenance": [],
      "gpuType": "T4"
    },
    "kernelspec": {
      "name": "python3",
      "display_name": "Python 3"
    },
    "language_info": {
      "name": "python"
    },
    "accelerator": "GPU"
  },
  "cells": [
    {
      "cell_type": "markdown",
      "source": [
        "# Import and Load Data"
      ],
      "metadata": {
        "id": "pO_a55YDbUt5"
      }
    },
    {
      "cell_type": "code",
      "execution_count": null,
      "metadata": {
        "colab": {
          "base_uri": "https://localhost:8080/"
        },
        "id": "KROzDY0cWg02",
        "outputId": "b0156986-8264-44b0-8289-2416bea39cb2"
      },
      "outputs": [
        {
          "output_type": "stream",
          "name": "stderr",
          "text": [
            "[nltk_data] Downloading package stopwords to /root/nltk_data...\n",
            "[nltk_data]   Package stopwords is already up-to-date!\n"
          ]
        },
        {
          "output_type": "execute_result",
          "data": {
            "text/plain": [
              "True"
            ]
          },
          "metadata": {},
          "execution_count": 1
        }
      ],
      "source": [
        "import numpy as np, pandas as pd, matplotlib.pyplot\n",
        "import re\n",
        "import nltk\n",
        "from nltk.corpus import stopwords\n",
        "from sklearn.model_selection import train_test_split\n",
        "from sklearn.feature_extraction.text import TfidfVectorizer\n",
        "from sklearn.metrics import classification_report\n",
        "from sklearn.naive_bayes import GaussianNB\n",
        "import itertools\n",
        "import tensorflow as tf\n",
        "nltk.download('stopwords')"
      ]
    },
    {
      "cell_type": "code",
      "source": [
        "data = pd.read_csv('./sample_data/amazon_reviews_us_Watches_v1_00.tsv',sep='\\t',engine='python',on_bad_lines=lambda x:x[:-1])"
      ],
      "metadata": {
        "id": "XAaBZq-4YRdY"
      },
      "execution_count": null,
      "outputs": []
    },
    {
      "cell_type": "code",
      "source": [
        "data.shape"
      ],
      "metadata": {
        "colab": {
          "base_uri": "https://localhost:8080/"
        },
        "id": "PjGWwuWugTTd",
        "outputId": "f239be29-e880-49fe-dccc-5094a5b0b21e"
      },
      "execution_count": null,
      "outputs": [
        {
          "output_type": "execute_result",
          "data": {
            "text/plain": [
              "(959868, 15)"
            ]
          },
          "metadata": {},
          "execution_count": 3
        }
      ]
    },
    {
      "cell_type": "code",
      "source": [
        "data = data[:450000]"
      ],
      "metadata": {
        "id": "T7qNd49cx9PK"
      },
      "execution_count": null,
      "outputs": []
    },
    {
      "cell_type": "code",
      "source": [
        "data.shape"
      ],
      "metadata": {
        "colab": {
          "base_uri": "https://localhost:8080/"
        },
        "id": "BEuI-plOyFhS",
        "outputId": "26a28b43-f8e0-4aae-ba9b-72b1e25dd896"
      },
      "execution_count": null,
      "outputs": [
        {
          "output_type": "execute_result",
          "data": {
            "text/plain": [
              "(450000, 15)"
            ]
          },
          "metadata": {},
          "execution_count": 5
        }
      ]
    },
    {
      "cell_type": "markdown",
      "source": [
        "# Preproccess"
      ],
      "metadata": {
        "id": "ZWOUg68yZfNo"
      }
    },
    {
      "cell_type": "code",
      "source": [
        "# Drop the null examples\n",
        "data = data.dropna()"
      ],
      "metadata": {
        "id": "1i4_iYr0Yg1Y"
      },
      "execution_count": null,
      "outputs": []
    },
    {
      "cell_type": "code",
      "source": [
        "# We just need Star_Rating and Review_body column\n",
        "data = data[[\"star_rating\",\"review_body\"]]"
      ],
      "metadata": {
        "id": "OvgdnJEnZqk5"
      },
      "execution_count": null,
      "outputs": []
    },
    {
      "cell_type": "code",
      "source": [
        "# We should'nt proccess 3 star products because they're nutural\n",
        "data = data[data['star_rating']!=3]"
      ],
      "metadata": {
        "id": "tYh0IjrRbOXo"
      },
      "execution_count": null,
      "outputs": []
    },
    {
      "cell_type": "code",
      "source": [
        "data.shape"
      ],
      "metadata": {
        "colab": {
          "base_uri": "https://localhost:8080/"
        },
        "id": "CAF3eItnuUah",
        "outputId": "6c20bd23-ca22-4cb5-fd0a-00c1c5a1cb20"
      },
      "execution_count": null,
      "outputs": [
        {
          "output_type": "execute_result",
          "data": {
            "text/plain": [
              "(414542, 2)"
            ]
          },
          "metadata": {},
          "execution_count": 9
        }
      ]
    },
    {
      "cell_type": "markdown",
      "source": [
        "Linguistic Changes"
      ],
      "metadata": {
        "id": "rQhtpSIbc6RI"
      }
    },
    {
      "cell_type": "code",
      "source": [
        "\n",
        "remove_non_alphabet = lambda x: re.sub('[^a-zA-Z]',' ',str(x))\n",
        "remove_url = lambda x:re.sub(r'http\\S+','',x)\n",
        "data['review_body'] = data['review_body'].map(remove_non_alphabet)\n",
        "data['review_body'] = data['review_body'].map(remove_url)\n",
        "data['review_body'] = data['review_body'].str.lower()"
      ],
      "metadata": {
        "id": "0T_s-M3ec5vo"
      },
      "execution_count": null,
      "outputs": []
    },
    {
      "cell_type": "code",
      "source": [
        "def contractions(s):\n",
        "    s = re.sub(r\"won't\", \"will not\",s)\n",
        "    s = re.sub(r\"wouldn't\", \"would not\",s)\n",
        "    s = re.sub(r\"couldn't\", \"could not\",s)\n",
        "    s = re.sub(r\"\\'d\", \" would\",s)\n",
        "    s = re.sub(r\"can\\'t\", \"can not\",s)\n",
        "    s = re.sub(r\"n\\'t\", \" not\", s)\n",
        "    s = re.sub(r\"\\'re\", \" are\", s)\n",
        "    s = re.sub(r\"\\'s\", \" is\", s)\n",
        "    s = re.sub(r\"\\'ll\", \" will\", s)\n",
        "    s = re.sub(r\"\\'t\", \" not\", s)\n",
        "    s = re.sub(r\"\\'ve\", \" have\", s)\n",
        "    s = re.sub(r\"'’m\", \" am\", s)\n",
        "    return s\n",
        "data['review_body']=data['review_body'].apply(lambda x:contractions(x))\n",
        "data['review_body']=data['review_body'].apply(lambda x:re.sub(r' +',' ',x))\n",
        "stop = stopwords.words('english')\n",
        "data['review_body']=data['review_body'].apply(lambda x: \" \".join([x for x in x.split() if x not in stop]))"
      ],
      "metadata": {
        "id": "xDfliHRxeGZo"
      },
      "execution_count": null,
      "outputs": []
    },
    {
      "cell_type": "markdown",
      "source": [
        "Labeling"
      ],
      "metadata": {
        "id": "Yyu0fXvRh13f"
      }
    },
    {
      "cell_type": "code",
      "source": [
        "for index,row in data['star_rating'].items():\n",
        "    if data['star_rating'][index]>=4:\n",
        "        data.loc[index,'label'] = 1\n",
        "    elif data['star_rating'][index]<=2:\n",
        "        data.loc[index,'label'] = 0\n",
        "data = data[['review_body','label']]"
      ],
      "metadata": {
        "id": "9l9vqhSjh84u"
      },
      "execution_count": null,
      "outputs": []
    },
    {
      "cell_type": "markdown",
      "source": [
        "Train Test Split"
      ],
      "metadata": {
        "id": "ysMB_-9Si0lX"
      }
    },
    {
      "cell_type": "code",
      "source": [
        "x_train,x_test,y_train, y_test = train_test_split(data['review_body'], data['label'], test_size=0.2)\n",
        "vectorizer= TfidfVectorizer(ngram_range = (1,3), max_features = 1000)\n",
        "tf_x_train = vectorizer.fit_transform(x_train)\n",
        "tf_x_test = vectorizer.fit_transform(x_test)\n",
        "# Now we have vectorized X_train and X_test"
      ],
      "metadata": {
        "id": "NvnIuRLIi-2O"
      },
      "execution_count": null,
      "outputs": []
    },
    {
      "cell_type": "markdown",
      "source": [
        "# Machine learning Algorithms(Naive Bays and Neural Network)\n",
        "\n",
        "---\n",
        "\n"
      ],
      "metadata": {
        "id": "RGrKxs1rkOKv"
      }
    },
    {
      "cell_type": "markdown",
      "source": [
        "naive Bays"
      ],
      "metadata": {
        "id": "FiTAYm-Hnl-e"
      }
    },
    {
      "cell_type": "code",
      "source": [
        "nb_model = GaussianNB()\n",
        "nb_model.fit(tf_x_train.toarray(),y_train)\n",
        "y_pred = nb_model.predict(tf_x_test.toarray())"
      ],
      "metadata": {
        "id": "kuyM0ACxkdmO"
      },
      "execution_count": null,
      "outputs": []
    },
    {
      "cell_type": "code",
      "source": [
        "print(classification_report(y_test,y_pred))"
      ],
      "metadata": {
        "id": "h_21m8esnkeu",
        "colab": {
          "base_uri": "https://localhost:8080/"
        },
        "outputId": "b8fe11c3-5b36-4888-c6c3-1b1cba062f5e"
      },
      "execution_count": null,
      "outputs": [
        {
          "output_type": "stream",
          "name": "stdout",
          "text": [
            "              precision    recall  f1-score   support\n",
            "\n",
            "         0.0       0.23      0.45      0.31     12799\n",
            "         1.0       0.88      0.73      0.80     70110\n",
            "\n",
            "    accuracy                           0.69     82909\n",
            "   macro avg       0.56      0.59      0.55     82909\n",
            "weighted avg       0.78      0.69      0.72     82909\n",
            "\n"
          ]
        }
      ]
    },
    {
      "cell_type": "markdown",
      "source": [
        "Neural Networks"
      ],
      "metadata": {
        "id": "FmBeaeMynqCv"
      }
    },
    {
      "cell_type": "code",
      "source": [
        "nn_model = tf.keras.Sequential([\n",
        "    tf.keras.layers.Dense(64,activation='relu',input_shape=(1000,)),\n",
        "    tf.keras.layers.Dense(32,activation='relu'),\n",
        "    tf.keras.layers.Dense(1,activation='sigmoid')\n",
        "])\n",
        "nn_model.compile(optimizer=tf.keras.optimizers.Adam(0.001), loss='binary_crossentropy',metrics=['accuracy'])\n",
        "\n",
        "history = nn_model.fit(\n",
        "    tf_x_train.toarray(), y_train, epochs=100, batch_size=32, validation_split=0.25, verbose=0\n",
        ")\n",
        "\n",
        "y_pred = nn_model.predict(tf_x_test.toarray())\n",
        "y_pred = (y_pred > 0.5).astype(int).reshape(-1,)\n",
        "# y_pred\n",
        "\n",
        "print(classification_report(y_test,y_pred))"
      ],
      "metadata": {
        "id": "gj_PhQ33ntEn",
        "colab": {
          "base_uri": "https://localhost:8080/"
        },
        "outputId": "f16deff6-6b94-4665-f544-f8c202b5797d"
      },
      "execution_count": null,
      "outputs": [
        {
          "output_type": "stream",
          "name": "stdout",
          "text": [
            "2591/2591 [==============================] - 4s 2ms/step\n",
            "              precision    recall  f1-score   support\n",
            "\n",
            "         0.0       0.21      0.26      0.23     12799\n",
            "         1.0       0.86      0.82      0.84     70110\n",
            "\n",
            "    accuracy                           0.74     82909\n",
            "   macro avg       0.54      0.54      0.54     82909\n",
            "weighted avg       0.76      0.74      0.75     82909\n",
            "\n"
          ]
        }
      ]
    }
  ]
}